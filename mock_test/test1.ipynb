{
 "cells": [
  {
   "cell_type": "markdown",
   "metadata": {},
   "source": [
    "#### 1.numpy 배열과 파이썬 기본 리스트의 차이를 설명하시오."
   ]
  },
  {
   "cell_type": "markdown",
   "metadata": {},
   "source": [
    "1.파이썬 리스트는 모든 자료의 타입을 허용하지만 numpy배열은 한 가지 자료형만 허용가능하여 숫자와 문자열이 섞이면 문자열로 전환된다.  \n",
    "\n",
    "2.파이썬 리스트의 연산은 덧셈과 곱셈만 가능하며 실수에 대하여 사칙연산이 되지않지만 numpy배열은 원소 전체의 값에 대하여 사칙연산이 가능하다.  \n",
    "\n",
    "3.파이썬 리스트와 numpy배열에 활용되는 메서드가 각각 달라 상대 자료형에 쓰이는 메서드를 지원하지 않는다.  "
   ]
  },
  {
   "cell_type": "markdown",
   "metadata": {},
   "source": [
    "#### 2.Series 클래스와 DataFrame 클래스에 대해 설명하시오."
   ]
  },
  {
   "cell_type": "markdown",
   "metadata": {},
   "source": [
    "Series 클래스:1차원의 시계열 데이터를 표현하고자 할 때 사용하는 클래스로 인덱스와 값이 한쌍으로 나열돼 있는 형태 이며 pandas 패키지의 `Series`클래스의 생성자로 값과 인덱스에 대한 배열 혹은 리스트를 전달하면 생성할 수 있음\n",
    "\n",
    "DataFrame 클래스:2차원 행렬 데이터를 표현하고자 할 때 사용하는 클래스로 `DataFrame`클래스의 생성자로 열방향 인덱스 columns과 행방향 인덱스 index로 지정가능하다."
   ]
  },
  {
   "cell_type": "markdown",
   "metadata": {},
   "source": [
    "#### 3.라인 플롯,바 플롯,스케터 플롯, 파이 플롯에 대해서 간단히 설명하고 어떤 경우에 사용되는지 설명하시오."
   ]
  },
  {
   "cell_type": "markdown",
   "metadata": {},
   "source": [
    "- 라인 플롯:시간의 흐름에 따른 데이터 포인터를 선으로 연결하는 선 그래프라고 하며 데이터가 시간의 흐름,순서에 따라 변할 때 주로 사용된다.(예 기온의 변화,주식 가격)\n",
    "\n",
    "- 바 플롯: x 축의 값이 분류가 가능한 카테고리 형태일 때 `bar()`,`barth()`메서드로 표시하는 막대 그래프이며 주로 카테고리별로 비교할 때 사용된다.(예 제품 별 판매량,지역별 인구수)\n",
    "\n",
    "- 파이 플롯: 전체에 대한 비율을 원형으로 나타내는 방식이며 주로 각 분류가 전체에 얼만큼 차지하고 있는지 파악하려 할 때 사용된다.(예 여론조사 결과)"
   ]
  },
  {
   "cell_type": "markdown",
   "metadata": {},
   "source": [
    "#### 4.numpy 배열에서 벡터화 연산이 파이썬 기본 리스트를 사용한 연산보다 어떤점에서 장점인지 설명하시오."
   ]
  },
  {
   "cell_type": "markdown",
   "metadata": {},
   "source": [
    "numpy에서 지원하는 벡터화 연산은 for문과 같은 반복문을 구성하여 사용하는 연산을 쓰지않고도 반복적인 연산이 가능하며 연산 최적화가 잘 되어 있어 연산 속도가 굉장히 빠르다."
   ]
  },
  {
   "cell_type": "markdown",
   "metadata": {},
   "source": [
    "#### 5.CSV 확장자에 대해 설명하시오."
   ]
  },
  {
   "cell_type": "markdown",
   "metadata": {},
   "source": [
    "comma-separated values의 약자이며 콤마(,)로 구분되는 값들을 의미한다. 주로 표로 나타내어지는 데이터들을 쉼표로 구분하여 저장하는 파일 형식이다."
   ]
  },
  {
   "cell_type": "markdown",
   "metadata": {},
   "source": [
    "#### 6.numpy 패키지와 pandas 패키지에 대해 설명하시오."
   ]
  },
  {
   "cell_type": "markdown",
   "metadata": {},
   "source": []
  }
 ],
 "metadata": {
  "language_info": {
   "name": "python"
  }
 },
 "nbformat": 4,
 "nbformat_minor": 2
}
